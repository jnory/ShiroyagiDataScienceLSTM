{
 "cells": [
  {
   "cell_type": "code",
   "execution_count": 1,
   "metadata": {
    "collapsed": false
   },
   "outputs": [],
   "source": [
    "%matplotlib inline\n",
    "%load_ext autoreload\n",
    "%autoreload 2"
   ]
  },
  {
   "cell_type": "markdown",
   "metadata": {},
   "source": [
    "%%bash\n",
    "apt-get install -y mecab libmecab-dev mecab-ipadic-utf8\n",
    "pip install mecab-python3"
   ]
  },
  {
   "cell_type": "code",
   "execution_count": 2,
   "metadata": {
    "collapsed": true
   },
   "outputs": [],
   "source": [
    "import numpy as np\n",
    "import pandas as pd"
   ]
  },
  {
   "cell_type": "code",
   "execution_count": 3,
   "metadata": {
    "collapsed": false
   },
   "outputs": [],
   "source": [
    "df = pd.read_csv(\"data/QA.csv\")"
   ]
  },
  {
   "cell_type": "code",
   "execution_count": 4,
   "metadata": {
    "collapsed": false
   },
   "outputs": [],
   "source": [
    "df = df[[\"title\", \"question\", \"answer\"]]"
   ]
  },
  {
   "cell_type": "code",
   "execution_count": 5,
   "metadata": {
    "collapsed": false
   },
   "outputs": [
    {
     "data": {
      "text/html": [
       "<div>\n",
       "<table border=\"1\" class=\"dataframe\">\n",
       "  <thead>\n",
       "    <tr style=\"text-align: right;\">\n",
       "      <th></th>\n",
       "      <th>title</th>\n",
       "      <th>question</th>\n",
       "      <th>answer</th>\n",
       "    </tr>\n",
       "  </thead>\n",
       "  <tbody>\n",
       "    <tr>\n",
       "      <th>0</th>\n",
       "      <td>Ｑ＆Ａ</td>\n",
       "      <td>本当に国土交通省で行っている調査ですか？</td>\n",
       "      <td>統計法（平成１９年法律第５３号）に基づく「自動車輸送統計調査規則」（昭和３５年運輸省令第１５...</td>\n",
       "    </tr>\n",
       "    <tr>\n",
       "      <th>1</th>\n",
       "      <td>Ｑ＆Ａ</td>\n",
       "      <td>どうして私の車が調査に当たったのですか？</td>\n",
       "      <td>日本国内を走る車の中から無作為に調査をお願いしています。\\r     →  　国内の全ての自...</td>\n",
       "    </tr>\n",
       "    <tr>\n",
       "      <th>2</th>\n",
       "      <td>Ｑ＆Ａ</td>\n",
       "      <td>どうして私の事業所が調査に当たったのですか？</td>\n",
       "      <td>保有車両数が一定以上である全ての事業所と無作為に抽出した事業所に調査をお願いしています。\\r...</td>\n",
       "    </tr>\n",
       "    <tr>\n",
       "      <th>3</th>\n",
       "      <td>Ｑ＆Ａ</td>\n",
       "      <td>プライバシーは守られるのですか？</td>\n",
       "      <td>統計法により、必ず守られます。\\r     →  　この調査は、統計法（平成１９年法律第５３...</td>\n",
       "    </tr>\n",
       "    <tr>\n",
       "      <th>4</th>\n",
       "      <td>Ｑ＆Ａ</td>\n",
       "      <td>この統計はどう使われているのですか？</td>\n",
       "      <td>調査の集計結果は、一例として以下のとおり活用されています。\\r     →  　１． 交通政...</td>\n",
       "    </tr>\n",
       "  </tbody>\n",
       "</table>\n",
       "</div>"
      ],
      "text/plain": [
       "  title                question  \\\n",
       "0   Ｑ＆Ａ    本当に国土交通省で行っている調査ですか？   \n",
       "1   Ｑ＆Ａ    どうして私の車が調査に当たったのですか？   \n",
       "2   Ｑ＆Ａ  どうして私の事業所が調査に当たったのですか？   \n",
       "3   Ｑ＆Ａ        プライバシーは守られるのですか？   \n",
       "4   Ｑ＆Ａ      この統計はどう使われているのですか？   \n",
       "\n",
       "                                              answer  \n",
       "0  統計法（平成１９年法律第５３号）に基づく「自動車輸送統計調査規則」（昭和３５年運輸省令第１５...  \n",
       "1  日本国内を走る車の中から無作為に調査をお願いしています。\\r     →  　国内の全ての自...  \n",
       "2  保有車両数が一定以上である全ての事業所と無作為に抽出した事業所に調査をお願いしています。\\r...  \n",
       "3  統計法により、必ず守られます。\\r     →  　この調査は、統計法（平成１９年法律第５３...  \n",
       "4  調査の集計結果は、一例として以下のとおり活用されています。\\r     →  　１． 交通政...  "
      ]
     },
     "execution_count": 5,
     "metadata": {},
     "output_type": "execute_result"
    }
   ],
   "source": [
    "df.head()"
   ]
  },
  {
   "cell_type": "code",
   "execution_count": 6,
   "metadata": {
    "collapsed": true
   },
   "outputs": [],
   "source": [
    "import re"
   ]
  },
  {
   "cell_type": "code",
   "execution_count": 7,
   "metadata": {
    "collapsed": true
   },
   "outputs": [],
   "source": [
    "import unicodedata"
   ]
  },
  {
   "cell_type": "code",
   "execution_count": 8,
   "metadata": {
    "collapsed": false
   },
   "outputs": [],
   "source": [
    "# 全角半角統一\n",
    "answers = map(lambda text: unicodedata.normalize(\"NFKC\", text), df[\"answer\"])\n",
    "\n",
    "# 目立つノイズを抑える\n",
    "answers = map(lambda text: text.replace(\"\\u3000\", \"\").replace(\"○\", \" \").replace(\"→\", \" \").replace(\"※\", \" ※\"), answers)\n",
    "\n",
    "# 連続するスペースを除去\n",
    "answers = map(lambda text: \" \".join(text.split()), answers)\n",
    "\n",
    "# 文で切る\n",
    "answers = map(lambda text: \"。 \".join(text.split(\"。\")).split(), answers)\n",
    "\n",
    "def concat_short_sentence(lines):\n",
    "    \"\"\"\n",
    "    短すぎる文は記号と解釈して次の文と繋げる\n",
    "    \"\"\"\n",
    "    \n",
    "    connected = []\n",
    "    carry = None\n",
    "    for line in lines:\n",
    "        if len(line) > 3:\n",
    "            if carry is not None:\n",
    "                connected.append(carry + \" \" + line)\n",
    "                carry = None\n",
    "            else:\n",
    "                connected.append(line)\n",
    "        else:\n",
    "            if carry is not None:\n",
    "                carry = carry + \" \" + line\n",
    "            else:\n",
    "                carry = line\n",
    "    else:\n",
    "        if carry is not None:\n",
    "            connected.append(carry)\n",
    "    return connected\n",
    "    \n",
    "answers = list(map(lambda lines: concat_short_sentence(lines), answers))"
   ]
  },
  {
   "cell_type": "code",
   "execution_count": 9,
   "metadata": {
    "collapsed": false
   },
   "outputs": [
    {
     "data": {
      "text/plain": [
       "[['統計法(平成19年法律第53号)に基づく「自動車輸送統計調査規則」(昭和35年運輸省令第15号)により、国土交通省が毎月調査を行っています。',\n",
       "  '国土交通大臣が選定する自動車の使用者に調査票を配布し、指定された期間の輸送状況等をご記入いただくという方法で調査を行っています。',\n",
       "  'なお、調査方法の変更により、調査票の配布・回収は郵送で行っています。'],\n",
       " ['日本国内を走る車の中から無作為に調査をお願いしています。',\n",
       "  '国内の全ての自動車を毎月調査することは難しいため、地域別、車種別の層ごとに無作為に抽出した自動車の使用者の方に調査へのご協力をお願いしています。'],\n",
       " ['保有車両数が一定以上である全ての事業所と無作為に抽出した事業所に調査をお願いしています。',\n",
       "  '貨物事業所への調査については、保有車両数が一定以上である全ての事業所の皆様と、地域別、保有車両数別の層ごとに無作為に抽出した事業所の皆様に調査へのご協力をお願いしています。'],\n",
       " ['統計法により、必ず守られます。',\n",
       "  'この調査は、統計法(平成19年法律第53号)に基づき政府が実施する基幹統計調査です。',\n",
       "  '本調査において知り得た事項については、統計法第41条により守秘義務が課せられており、秘密の保護には万全を期しています。'],\n",
       " ['調査の集計結果は、一例として以下のとおり活用されています。', '1. 交通政策等策定の基礎資料', '2. モーダルシフト推進のための基礎資料'],\n",
       " ['調査対象は車両1台又は事業所ごととなっています。',\n",
       "  '【調査対象が自動車の場合】',\n",
       "  '車両1台ごとを調査対象にしているため、複数の車両を所有されている場合は短期間に再度調査へのご協力をお願いすることがあります。',\n",
       "  'また、一度調査対象になった車両は、営業用自動車の場合は1年以内、自家用自動車の場合は3年以内に再度調査をお願いすることは原則としてありません。',\n",
       "  'しかし、地域別・車種別の層によっては、車両数が少なく短期間に再度調査へのご協力をお願いすることがあります。',\n",
       "  '【調査対象が事業所の場合】',\n",
       "  '保有車両数が一定以上である事業所につきましては、毎月、調査にご協力をお願いしています。',\n",
       "  '無作為に抽出した事業所につきましては、地域別・保有車両数別の層にもよりますが、数か月から数年に一度調査へのご協力をお願いしております。'],\n",
       " ['実態を反映しますので、調査へのご協力お願いいたします。',\n",
       "  '少ない輸送ということも、大切な統計情報ですので、調査期間中の輸送状況をご記入いただきますようお願いいたします。'],\n",
       " ['必要事項を記入の上、提出願います。',\n",
       "  '休車(1日も稼働していないということ。',\n",
       "  ')というデータも大切な情報です。',\n",
       "  '調査票の休車日数欄に調査期間の日数をご記入の上、提出をお願いします。',\n",
       "  'ただし、登録抹消済みの場合は、「Q09」をご覧ください。'],\n",
       " ['抹消登録をしているかご確認願います。',\n",
       "  '本調査では、抹消登録をされていない車両は、「休車(1日も稼働していないということ。',\n",
       "  ')」として処理しております。',\n",
       "  '休車というデータも大切な情報です。',\n",
       "  'ご確認いただき、調査対象車両が抹消登録されていなかった場合は、休車日数の欄に調査期間の日数をご記入いただきますようお願いいたします。',\n",
       "  'また、抹消登録が済んでいる場合には、調査票の第1頁の余白に「該当車両なし」とご記入の上、同封の返送封筒にて返送していただきますようお願いいたします。'],\n",
       " ['自動車検査証に記載されている自動車の種類で分類してください。',\n",
       "  '自動車のナンバープレートから区別することもできます。',\n",
       "  '緑ナンバー',\n",
       "  '(緑地に白文字)',\n",
       "  '普通車 「1」「10〜19」「100〜」',\n",
       "  '小型車 「4」「40〜」「400〜」',\n",
       "  '「6」「60〜」「600〜」',\n",
       "  '特種用途車',\n",
       "  '「8」「80〜」「800〜」',\n",
       "  '黒ナンバー',\n",
       "  '(黒地に黄文字)',\n",
       "  '軽自動車',\n",
       "  '※ 「」内の数字は、ナンバープレートの地域名表示の右側に標記のある数字。',\n",
       "  '※ 8ナンバーの冷蔵・冷凍車は、登録上、特種用途車になりますので、記入の際には、ご注意ください。']]"
      ]
     },
     "execution_count": 9,
     "metadata": {},
     "output_type": "execute_result"
    }
   ],
   "source": [
    "answers[:10]"
   ]
  },
  {
   "cell_type": "code",
   "execution_count": 10,
   "metadata": {
    "collapsed": false
   },
   "outputs": [
    {
     "data": {
      "text/plain": [
       "[['就労準備支援モデル事業の利用に当たっては、自立相談支援機関による一連の支援プロセス(プラン作成、支援調整会議等)、行政による支援決定を経ることが必要である。',\n",
       "  'これらの取扱いは生活保護受給者についても基本的には同様であるが、生活保護受給者に対する支援は福祉事務所のケースワーカーが責任を負うものであることから、一義的には事業利用の必要性をケースワーカーが判断した上で、自立相談支援機関と必要な調整を行い、本モデル事業における一連のプロセスを行う必要がある。',\n",
       "  'なお、この場合、福祉事務所が把握している当該受給者に関する情報等については、可能な限り自立相談支援機関と共有できるようにするなど、円滑な支援開始のため適切な連携を図っていただくようご留意願いたい。'],\n",
       " ['可能である。'],\n",
       " ['平成25年度におけるモデル事業の補助対象経費については、給料、職員手当等、報酬、共済費、報償費、旅費、賃金、需用費(消耗品費、燃料費、印刷製本費、修繕費、食糧費)、使用料、賃貸料、役務費(通信運搬費、保険料、手数料)、委託費、備品購入費(価格30万円以上の備品を除く)、負担金としている。',\n",
       "  '就労訓練事業の推進モデル事業においては、・担い手となる法人等への啓発・研修・地域における就労訓練事業に関する調査研究や協議会の開催・就労訓練事業者に対する立ち上げ支援等の事業に取り組むことができることとしており、これらの対象経費のうち必要な支出を検討されたい。'],\n",
       " ['「生活困窮者自立促進支援モデル事業実施要領」第4の4の事業として、補助対象となり得るものと考えられるが、教育担当部局とも十分連携の上、事業内容を検討されたい。'],\n",
       " ['「生活困窮者自立支援制度施行円滑化特別対策事業」については、平成26年度にモデル事業を実施しない自治体についても補助対象とすることとしている。'],\n",
       " ['お見込みのとおり。'],\n",
       " ['モデル事業の補助協議にあたって、個別具体的な減額基準は定めていないが、補助基準額は12ヶ月の実施期間を想定して設定しているものであるため、実際の事業実施期間などを勘案して協議を行うこととしている。'],\n",
       " ['予算が単年度主義であることから、単年度契約が基本になると考えている。'],\n",
       " ['今後、モデル事業実施自治体を対象にアンケート調査等を実施させていただくこととしており、結果が出次第速やかに、自治体にお示ししたいと考えている。'],\n",
       " ['支援対象者が他自治体に転出する場合、当該支援対象者の抱える問題の解決状況に応じて、当該自治体の自立相談支援機関等につないだり、当該機関等について情報提供することとなる。',\n",
       "  'プランにもとづく支援を行うなかで、支援対象者が当該事業を実施していない自治体に転出する場合には、支援により当該対象者が抱える問題が一定程度解決し、支援が終結した場合等であることが想定されるが、支援対象者の希望等により、やむを得ず、問題が解決しないまま転出することになった場合は、当該対象者が抱える問題に応じた相談機関につなぐ。',\n",
       "  '(なお、他の相談支援機関等に支援対象者に係る情報提供をする場合にあっては、支援対象者から同意を得ることが必要である。',\n",
       "  ')']]"
      ]
     },
     "execution_count": 10,
     "metadata": {},
     "output_type": "execute_result"
    }
   ],
   "source": [
    "answers[-10:]"
   ]
  },
  {
   "cell_type": "code",
   "execution_count": 28,
   "metadata": {
    "collapsed": false
   },
   "outputs": [],
   "source": [
    "import MeCab"
   ]
  },
  {
   "cell_type": "code",
   "execution_count": 29,
   "metadata": {
    "collapsed": true
   },
   "outputs": [],
   "source": [
    "tagger = MeCab.Tagger(\"-Owakati\")"
   ]
  },
  {
   "cell_type": "code",
   "execution_count": 36,
   "metadata": {
    "collapsed": true
   },
   "outputs": [],
   "source": [
    "tokenized = []\n",
    "for lines in answers:\n",
    "    t = []\n",
    "    for line in lines:\n",
    "        t.append(tagger.parse(line).strip())\n",
    "    tokenized.append(\" \".join(t))"
   ]
  },
  {
   "cell_type": "code",
   "execution_count": 37,
   "metadata": {
    "collapsed": false
   },
   "outputs": [
    {
     "data": {
      "text/plain": [
       "['統計 法 ( 平成 19 年 法律 第 53 号 ) に 基づく 「 自動車 輸送 統計 調査 規則 」 ( 昭和 35 年 運輸省 令 第 15 号 ) により 、 国土 交通省 が 毎月 調査 を 行っ て い ます 。 国土 交通 大臣 が 選定 する 自動車 の 使用 者 に 調査 票 を 配布 し 、 指定 さ れ た 期間 の 輸送 状況 等 を ご 記入 いただく という 方法 で 調査 を 行っ て い ます 。 なお 、 調査 方法 の 変更 により 、 調査 票 の 配布 ・ 回収 は 郵送 で 行っ て い ます 。',\n",
       " '日本 国内 を 走る 車 の 中 から 無作為 に 調査 を お願い し て い ます 。 国内 の 全て の 自動車 を 毎月 調査 する こと は 難しい ため 、 地域 別 、 車種 別 の 層 ごと に 無 作為 に 抽出 し た 自動車 の 使用 者 の 方 に 調査 へ の ご 協力 を お願い し て い ます 。',\n",
       " '保有 車両 数 が 一定 以上 で ある 全て の 事業 所 と 無作為 に 抽出 し た 事業 所 に 調査 を お願い し て い ます 。 貨物 事業 所 へ の 調査 について は 、 保有 車両 数 が 一定 以上 で ある 全て の 事業 所 の 皆様 と 、 地域 別 、 保有 車両 数 別 の 層 ごと に 無 作為 に 抽出 し た 事業 所 の 皆様 に 調査 へ の ご 協力 を お願い し て い ます 。',\n",
       " '統計 法 により 、 必ず 守ら れ ます 。 この 調査 は 、 統計 法 ( 平成 19 年 法律 第 53 号 ) に 基づき 政府 が 実施 する 基幹 統計 調査 です 。 本 調査 において 知り 得 た 事項 について は 、 統計 法 第 41 条 により 守秘 義務 が 課せ られ て おり 、 秘密 の 保護 に は 万全 を 期し て い ます 。',\n",
       " '調査 の 集計 結果 は 、 一 例 として 以下 の とおり 活用 さ れ て い ます 。 1 . 交通 政策 等 策定 の 基礎 資料 2 . モーダルシフト 推進 の ため の 基礎 資料',\n",
       " '調査 対象 は 車両 1 台 又は 事業 所 ごと と なっ て い ます 。 【 調査 対象 が 自動車 の 場合 】 車両 1 台 ごと を 調査 対象 に し て いる ため 、 複数 の 車両 を 所有 さ れ て いる 場合 は 短期間 に 再度 調査 へ の ご 協力 を お願い する こと が あり ます 。 また 、 一度 調査 対象 に なっ た 車両 は 、 営業 用 自動車 の 場合 は 1 年 以内 、 自家用 自動車 の 場合 は 3 年 以内 に 再度 調査 を お願い する こと は 原則 として あり ませ ん 。 しかし 、 地域 別 ・ 車種 別 の 層 によって は 、 車両 数 が 少なく 短期間 に 再度 調査 へ の ご 協力 を お願い する こと が あり ます 。 【 調査 対象 が 事業 所 の 場合 】 保有 車両 数 が 一定 以上 で ある 事業 所 に つき まし て は 、 毎月 、 調査 に ご 協力 を お願い し て い ます 。 無 作為 に 抽出 し た 事業 所 に つき まし て は 、 地域 別 ・ 保有 車両 数 別 の 層 に も より ます が 、 数 か月 から 数 年 に 一度 調査 へ の ご 協力 を お願い し て おり ます 。',\n",
       " '実態 を 反映 し ます ので 、 調査 へ の ご 協力 お願い いたし ます 。 少ない 輸送 という こと も 、 大切 な 統計 情報 です ので 、 調査 期間 中 の 輸送 状況 を ご 記入 いただき ます よう お願い いたし ます 。',\n",
       " '必要 事項 を 記入 の 上 、 提出 願い ます 。 休 車 ( 1 日 も 稼働 し て い ない という こと 。 ) という データ も 大切 な 情報 です 。 調査 票 の 休 車 日数 欄 に 調査 期間 の 日数 を ご 記入 の 上 、 提出 を お願い し ます 。 ただし 、 登録 抹消 済み の 場合 は 、 「 Q 09 」 を ご覧 ください 。',\n",
       " '抹消 登録 を し て いる かご 確認 願い ます 。 本 調査 で は 、 抹消 登録 を さ れ て い ない 車両 は 、 「 休 車 ( 1 日 も 稼働 し て い ない という こと 。 )」 として 処理 し て おり ます 。 休 車 という データ も 大切 な 情報 です 。 ご 確認 いただき 、 調査 対象 車両 が 抹消 登録 さ れ て い なかっ た 場合 は 、 休 車 日数 の 欄 に 調査 期間 の 日数 を ご 記入 いただき ます よう お願い いたし ます 。 また 、 抹消 登録 が 済ん で いる 場合 に は 、 調査 票 の 第 1 頁 の 余白 に 「 該当 車両 なし 」 と ご 記入 の 上 、 同封 の 返送 封筒 にて 返送 し て いただき ます よう お願い いたし ます 。',\n",
       " '自動車 検査 証 に 記載 さ れ て いる 自動車 の 種類 で 分類 し て ください 。 自動車 の ナンバー プレート から 区別 する こと も でき ます 。 緑 ナンバー ( 緑地 に 白 文字 ) 普通 車 「 1 」 「 10 〜 19 」 「 100 〜 」 小型車 「 4 」 「 40 〜 」 「 400 〜 」 「 6 」 「 60 〜 」 「 600 〜 」 特種 用途 車 「 8 」 「 80 〜 」 「 800 〜 」 黒 ナンバー ( 黒地 に 黄 文字 ) 軽自動車 ※ 「 」 内 の 数字 は 、 ナンバー プレート の 地域 名 表示 の 右側 に 標記 の ある 数字 。 ※ 8 ナンバー の 冷蔵 ・ 冷凍 車 は 、 登録 上 、 特種 用途 車 に なり ます ので 、 記入 の 際 に は 、 ご 注意 ください 。']"
      ]
     },
     "execution_count": 37,
     "metadata": {},
     "output_type": "execute_result"
    }
   ],
   "source": [
    "tokenized[:10]"
   ]
  },
  {
   "cell_type": "code",
   "execution_count": 38,
   "metadata": {
    "collapsed": true
   },
   "outputs": [],
   "source": [
    "df[\"answer\"] = tokenized"
   ]
  },
  {
   "cell_type": "code",
   "execution_count": 40,
   "metadata": {
    "collapsed": false
   },
   "outputs": [
    {
     "data": {
      "text/html": [
       "<div>\n",
       "<table border=\"1\" class=\"dataframe\">\n",
       "  <thead>\n",
       "    <tr style=\"text-align: right;\">\n",
       "      <th></th>\n",
       "      <th>title</th>\n",
       "      <th>question</th>\n",
       "      <th>answer</th>\n",
       "    </tr>\n",
       "  </thead>\n",
       "  <tbody>\n",
       "    <tr>\n",
       "      <th>0</th>\n",
       "      <td>Ｑ＆Ａ</td>\n",
       "      <td>本当に国土交通省で行っている調査ですか？</td>\n",
       "      <td>統計 法 ( 平成 19 年 法律 第 53 号 ) に 基づく 「 自動車 輸送 統計 調...</td>\n",
       "    </tr>\n",
       "    <tr>\n",
       "      <th>1</th>\n",
       "      <td>Ｑ＆Ａ</td>\n",
       "      <td>どうして私の車が調査に当たったのですか？</td>\n",
       "      <td>日本 国内 を 走る 車 の 中 から 無作為 に 調査 を お願い し て い ます 。 ...</td>\n",
       "    </tr>\n",
       "    <tr>\n",
       "      <th>2</th>\n",
       "      <td>Ｑ＆Ａ</td>\n",
       "      <td>どうして私の事業所が調査に当たったのですか？</td>\n",
       "      <td>保有 車両 数 が 一定 以上 で ある 全て の 事業 所 と 無作為 に 抽出 し た ...</td>\n",
       "    </tr>\n",
       "    <tr>\n",
       "      <th>3</th>\n",
       "      <td>Ｑ＆Ａ</td>\n",
       "      <td>プライバシーは守られるのですか？</td>\n",
       "      <td>統計 法 により 、 必ず 守ら れ ます 。 この 調査 は 、 統計 法 ( 平成 19...</td>\n",
       "    </tr>\n",
       "    <tr>\n",
       "      <th>4</th>\n",
       "      <td>Ｑ＆Ａ</td>\n",
       "      <td>この統計はどう使われているのですか？</td>\n",
       "      <td>調査 の 集計 結果 は 、 一 例 として 以下 の とおり 活用 さ れ て い ます ...</td>\n",
       "    </tr>\n",
       "  </tbody>\n",
       "</table>\n",
       "</div>"
      ],
      "text/plain": [
       "  title                question  \\\n",
       "0   Ｑ＆Ａ    本当に国土交通省で行っている調査ですか？   \n",
       "1   Ｑ＆Ａ    どうして私の車が調査に当たったのですか？   \n",
       "2   Ｑ＆Ａ  どうして私の事業所が調査に当たったのですか？   \n",
       "3   Ｑ＆Ａ        プライバシーは守られるのですか？   \n",
       "4   Ｑ＆Ａ      この統計はどう使われているのですか？   \n",
       "\n",
       "                                              answer  \n",
       "0  統計 法 ( 平成 19 年 法律 第 53 号 ) に 基づく 「 自動車 輸送 統計 調...  \n",
       "1  日本 国内 を 走る 車 の 中 から 無作為 に 調査 を お願い し て い ます 。 ...  \n",
       "2  保有 車両 数 が 一定 以上 で ある 全て の 事業 所 と 無作為 に 抽出 し た ...  \n",
       "3  統計 法 により 、 必ず 守ら れ ます 。 この 調査 は 、 統計 法 ( 平成 19...  \n",
       "4  調査 の 集計 結果 は 、 一 例 として 以下 の とおり 活用 さ れ て い ます ...  "
      ]
     },
     "execution_count": 40,
     "metadata": {},
     "output_type": "execute_result"
    }
   ],
   "source": [
    "df.head()"
   ]
  },
  {
   "cell_type": "code",
   "execution_count": 52,
   "metadata": {
    "collapsed": true
   },
   "outputs": [],
   "source": [
    "df_dropped = df.dropna()"
   ]
  },
  {
   "cell_type": "code",
   "execution_count": 53,
   "metadata": {
    "collapsed": false
   },
   "outputs": [],
   "source": [
    "titles = []\n",
    "questions = []\n",
    "for i, (title, question) in enumerate(zip(df_dropped[\"title\"], df_dropped[\"question\"])):\n",
    "    title = unicodedata.normalize(\"NFKC\", title)\n",
    "    question = unicodedata.normalize(\"NFKC\", question)\n",
    "    titles.append(tagger.parse(title).strip())\n",
    "    questions.append(tagger.parse(question).strip())"
   ]
  },
  {
   "cell_type": "code",
   "execution_count": 54,
   "metadata": {
    "collapsed": false
   },
   "outputs": [
    {
     "name": "stderr",
     "output_type": "stream",
     "text": [
      "/opt/anaconda/lib/python3.5/site-packages/ipykernel/__main__.py:1: SettingWithCopyWarning: \n",
      "A value is trying to be set on a copy of a slice from a DataFrame.\n",
      "Try using .loc[row_indexer,col_indexer] = value instead\n",
      "\n",
      "See the caveats in the documentation: http://pandas.pydata.org/pandas-docs/stable/indexing.html#indexing-view-versus-copy\n",
      "  if __name__ == '__main__':\n",
      "/opt/anaconda/lib/python3.5/site-packages/ipykernel/__main__.py:2: SettingWithCopyWarning: \n",
      "A value is trying to be set on a copy of a slice from a DataFrame.\n",
      "Try using .loc[row_indexer,col_indexer] = value instead\n",
      "\n",
      "See the caveats in the documentation: http://pandas.pydata.org/pandas-docs/stable/indexing.html#indexing-view-versus-copy\n",
      "  from ipykernel import kernelapp as app\n"
     ]
    }
   ],
   "source": [
    "df_dropped[\"title\"] = titles\n",
    "df_dropped[\"question\"] = questions"
   ]
  },
  {
   "cell_type": "code",
   "execution_count": 55,
   "metadata": {
    "collapsed": false
   },
   "outputs": [
    {
     "data": {
      "text/html": [
       "<div>\n",
       "<table border=\"1\" class=\"dataframe\">\n",
       "  <thead>\n",
       "    <tr style=\"text-align: right;\">\n",
       "      <th></th>\n",
       "      <th>title</th>\n",
       "      <th>question</th>\n",
       "      <th>answer</th>\n",
       "    </tr>\n",
       "  </thead>\n",
       "  <tbody>\n",
       "    <tr>\n",
       "      <th>0</th>\n",
       "      <td>Q &amp; A</td>\n",
       "      <td>本当に 国土 交通省 で 行っ て いる 調査 です か ?</td>\n",
       "      <td>統計 法 ( 平成 19 年 法律 第 53 号 ) に 基づく 「 自動車 輸送 統計 調...</td>\n",
       "    </tr>\n",
       "    <tr>\n",
       "      <th>1</th>\n",
       "      <td>Q &amp; A</td>\n",
       "      <td>どうして 私 の 車 が 調査 に 当たっ た の です か ?</td>\n",
       "      <td>日本 国内 を 走る 車 の 中 から 無作為 に 調査 を お願い し て い ます 。 ...</td>\n",
       "    </tr>\n",
       "    <tr>\n",
       "      <th>2</th>\n",
       "      <td>Q &amp; A</td>\n",
       "      <td>どうして 私 の 事業 所 が 調査 に 当たっ た の です か ?</td>\n",
       "      <td>保有 車両 数 が 一定 以上 で ある 全て の 事業 所 と 無作為 に 抽出 し た ...</td>\n",
       "    </tr>\n",
       "    <tr>\n",
       "      <th>3</th>\n",
       "      <td>Q &amp; A</td>\n",
       "      <td>プライバシー は 守ら れる の です か ?</td>\n",
       "      <td>統計 法 により 、 必ず 守ら れ ます 。 この 調査 は 、 統計 法 ( 平成 19...</td>\n",
       "    </tr>\n",
       "    <tr>\n",
       "      <th>4</th>\n",
       "      <td>Q &amp; A</td>\n",
       "      <td>この 統計 は どう 使わ れ て いる の です か ?</td>\n",
       "      <td>調査 の 集計 結果 は 、 一 例 として 以下 の とおり 活用 さ れ て い ます ...</td>\n",
       "    </tr>\n",
       "  </tbody>\n",
       "</table>\n",
       "</div>"
      ],
      "text/plain": [
       "   title                             question  \\\n",
       "0  Q & A       本当に 国土 交通省 で 行っ て いる 調査 です か ?   \n",
       "1  Q & A     どうして 私 の 車 が 調査 に 当たっ た の です か ?   \n",
       "2  Q & A  どうして 私 の 事業 所 が 調査 に 当たっ た の です か ?   \n",
       "3  Q & A              プライバシー は 守ら れる の です か ?   \n",
       "4  Q & A        この 統計 は どう 使わ れ て いる の です か ?   \n",
       "\n",
       "                                              answer  \n",
       "0  統計 法 ( 平成 19 年 法律 第 53 号 ) に 基づく 「 自動車 輸送 統計 調...  \n",
       "1  日本 国内 を 走る 車 の 中 から 無作為 に 調査 を お願い し て い ます 。 ...  \n",
       "2  保有 車両 数 が 一定 以上 で ある 全て の 事業 所 と 無作為 に 抽出 し た ...  \n",
       "3  統計 法 により 、 必ず 守ら れ ます 。 この 調査 は 、 統計 法 ( 平成 19...  \n",
       "4  調査 の 集計 結果 は 、 一 例 として 以下 の とおり 活用 さ れ て い ます ...  "
      ]
     },
     "execution_count": 55,
     "metadata": {},
     "output_type": "execute_result"
    }
   ],
   "source": [
    "df_dropped.head()"
   ]
  },
  {
   "cell_type": "code",
   "execution_count": 59,
   "metadata": {
    "collapsed": false
   },
   "outputs": [],
   "source": [
    "df_dropped.to_csv(\"data/QA.normalized.csv\", encoding=\"utf-8\")"
   ]
  },
  {
   "cell_type": "code",
   "execution_count": null,
   "metadata": {
    "collapsed": true
   },
   "outputs": [],
   "source": []
  }
 ],
 "metadata": {
  "anaconda-cloud": {},
  "kernelspec": {
   "display_name": "Python [Root]",
   "language": "python",
   "name": "Python [Root]"
  },
  "language_info": {
   "codemirror_mode": {
    "name": "ipython",
    "version": 3
   },
   "file_extension": ".py",
   "mimetype": "text/x-python",
   "name": "python",
   "nbconvert_exporter": "python",
   "pygments_lexer": "ipython3",
   "version": "3.5.2"
  }
 },
 "nbformat": 4,
 "nbformat_minor": 0
}
